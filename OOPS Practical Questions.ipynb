{
 "cells": [
  {
   "cell_type": "code",
   "execution_count": 1,
   "id": "90779d20-9d4d-4a66-a7dd-794cd7891565",
   "metadata": {},
   "outputs": [
    {
     "name": "stdout",
     "output_type": "stream",
     "text": [
      "Bark!\n"
     ]
    }
   ],
   "source": [
    "# Q1: Animal and Dog class with method overriding\n",
    "class Animal:\n",
    "    def speak(self):\n",
    "        print(\"This is a generic animal sound.\")\n",
    "\n",
    "class Dog(Animal):\n",
    "    def speak(self):\n",
    "        print(\"Bark!\")\n",
    "\n",
    "Dog().speak()"
   ]
  },
  {
   "cell_type": "code",
   "execution_count": 2,
   "id": "70ea7f06-0e0b-4e8c-b52d-526ab6523cb9",
   "metadata": {},
   "outputs": [
    {
     "name": "stdout",
     "output_type": "stream",
     "text": [
      "78.5\n",
      "24\n"
     ]
    }
   ],
   "source": [
    "# Q2: Abstract class Shape with Circle and Rectangle\n",
    "from abc import ABC, abstractmethod\n",
    "\n",
    "class Shape(ABC):\n",
    "    @abstractmethod\n",
    "    def area(self):\n",
    "        pass\n",
    "\n",
    "class Circle(Shape):\n",
    "    def __init__(self, radius):\n",
    "        self.radius = radius\n",
    "\n",
    "    def area(self):\n",
    "        return 3.14 * self.radius ** 2\n",
    "\n",
    "class Rectangle(Shape):\n",
    "    def __init__(self, length, width):\n",
    "        self.length = length\n",
    "        self.width = width\n",
    "\n",
    "    def area(self):\n",
    "        return self.length * self.width\n",
    "\n",
    "print(Circle(5).area())\n",
    "print(Rectangle(4, 6).area())\n"
   ]
  },
  {
   "cell_type": "code",
   "execution_count": 3,
   "id": "c355e93a-cb3b-4bd4-96cd-6f8938938e98",
   "metadata": {},
   "outputs": [
    {
     "name": "stdout",
     "output_type": "stream",
     "text": [
      "Electric Tesla 85 kWh\n"
     ]
    }
   ],
   "source": [
    "# Q3: Multi-level inheritance with Vehicle, Car, ElectricCar\n",
    "class Vehicle:\n",
    "    def __init__(self, type):\n",
    "        self.type = type\n",
    "\n",
    "class Car(Vehicle):\n",
    "    def __init__(self, type, brand):\n",
    "        super().__init__(type)\n",
    "        self.brand = brand\n",
    "\n",
    "class ElectricCar(Car):\n",
    "    def __init__(self, type, brand, battery):\n",
    "        super().__init__(type, brand)\n",
    "        self.battery = battery\n",
    "\n",
    "ecar = ElectricCar(\"Electric\", \"Tesla\", \"85 kWh\")\n",
    "print(ecar.type, ecar.brand, ecar.battery)\n"
   ]
  },
  {
   "cell_type": "code",
   "execution_count": 4,
   "id": "ca57cc3a-4aca-4317-aa3b-1101f0560852",
   "metadata": {},
   "outputs": [
    {
     "name": "stdout",
     "output_type": "stream",
     "text": [
      "Sparrow flies high.\n",
      "Penguins can't fly.\n"
     ]
    }
   ],
   "source": [
    "# Q4: Polymorphism with Bird, Sparrow, Penguin\n",
    "class Bird:\n",
    "    def fly(self):\n",
    "        print(\"Bird is flying.\")\n",
    "\n",
    "class Sparrow(Bird):\n",
    "    def fly(self):\n",
    "        print(\"Sparrow flies high.\")\n",
    "\n",
    "class Penguin(Bird):\n",
    "    def fly(self):\n",
    "        print(\"Penguins can't fly.\")\n",
    "\n",
    "for bird in [Sparrow(), Penguin()]:\n",
    "    bird.fly()\n"
   ]
  },
  {
   "cell_type": "code",
   "execution_count": 5,
   "id": "ee014699-f7cc-4536-91da-717938946de9",
   "metadata": {},
   "outputs": [
    {
     "name": "stdout",
     "output_type": "stream",
     "text": [
      "700\n"
     ]
    }
   ],
   "source": [
    "# Q5: Encapsulation with BankAccount\n",
    "class BankAccount:\n",
    "    def __init__(self):\n",
    "        self.__balance = 0\n",
    "\n",
    "    def deposit(self, amount):\n",
    "        self.__balance += amount\n",
    "\n",
    "    def withdraw(self, amount):\n",
    "        if amount <= self.__balance:\n",
    "            self.__balance -= amount\n",
    "\n",
    "    def check_balance(self):\n",
    "        return self.__balance\n",
    "\n",
    "acc = BankAccount()\n",
    "acc.deposit(1000)\n",
    "acc.withdraw(300)\n",
    "print(acc.check_balance())"
   ]
  },
  {
   "cell_type": "code",
   "execution_count": 6,
   "id": "735376fb-ded2-4714-9699-9313c5921f75",
   "metadata": {},
   "outputs": [
    {
     "name": "stdout",
     "output_type": "stream",
     "text": [
      "Strumming guitar.\n",
      "Playing piano.\n"
     ]
    }
   ],
   "source": [
    "# Q6: Runtime polymorphism with Instrument\n",
    "class Instrument:\n",
    "    def play(self):\n",
    "        print(\"Playing instrument.\")\n",
    "\n",
    "class Guitar(Instrument):\n",
    "    def play(self):\n",
    "        print(\"Strumming guitar.\")\n",
    "\n",
    "class Piano(Instrument):\n",
    "    def play(self):\n",
    "        print(\"Playing piano.\")\n",
    "\n",
    "for inst in [Guitar(), Piano()]:\n",
    "    inst.play()\n"
   ]
  },
  {
   "cell_type": "code",
   "execution_count": 7,
   "id": "b1927b94-8892-44f4-aed3-0c8f722dcd20",
   "metadata": {},
   "outputs": [
    {
     "name": "stdout",
     "output_type": "stream",
     "text": [
      "15\n",
      "5\n"
     ]
    }
   ],
   "source": [
    "# Q7: MathOperations class with add and subtract\n",
    "class MathOperations:\n",
    "    def add(self, a, b):\n",
    "        return a + b\n",
    "\n",
    "    def subtract_numbers(self, a, b):\n",
    "        return a - b\n",
    "\n",
    "math = MathOperations()\n",
    "print(math.add(10, 5))\n",
    "print(math.subtract_numbers(10, 5))\n"
   ]
  },
  {
   "cell_type": "code",
   "execution_count": 8,
   "id": "5ce5aef8-d596-45a6-95af-9c65d8f90754",
   "metadata": {},
   "outputs": [
    {
     "name": "stdout",
     "output_type": "stream",
     "text": [
      "2\n"
     ]
    }
   ],
   "source": [
    "# Q8: Person class with class method\n",
    "class Person:\n",
    "    count = 0\n",
    "\n",
    "    def __init__(self):\n",
    "        Person.count += 1\n",
    "\n",
    "    @classmethod\n",
    "    def total_number(cls):\n",
    "        return cls.count\n",
    "\n",
    "p1 = Person()\n",
    "p2 = Person()\n",
    "print(Person.total_number())\n"
   ]
  },
  {
   "cell_type": "code",
   "execution_count": 9,
   "id": "378623d3-695d-428e-8f42-f185fa5c5db3",
   "metadata": {},
   "outputs": [
    {
     "name": "stdout",
     "output_type": "stream",
     "text": [
      "175\n"
     ]
    }
   ],
   "source": [
    "# Q9: Student class with operator overloading\n",
    "class Student:\n",
    "    def __init__(self, name, grade):\n",
    "        self.name = name\n",
    "        self.grade = grade\n",
    "\n",
    "    def __add__(self, other):\n",
    "        return self.grade + other.grade\n",
    "\n",
    "s1 = Student(\"A\", 85)\n",
    "s2 = Student(\"B\", 90)\n",
    "print(s1 + s2)"
   ]
  },
  {
   "cell_type": "code",
   "execution_count": 10,
   "id": "ec72ee71-8091-4c25-b0ae-9ec564ca068e",
   "metadata": {},
   "outputs": [
    {
     "name": "stdout",
     "output_type": "stream",
     "text": [
      "Hello, my name is Vinay and I am 22 years old.\n"
     ]
    }
   ],
   "source": [
    "# Q10: Message class with child class\n",
    "class Message:\n",
    "    def print_message(self):\n",
    "        print(\"This is a message.\")\n",
    "\n",
    "class PersonalMessage(Message):\n",
    "    def __init__(self, name, age):\n",
    "        self.name = name\n",
    "        self.age = age\n",
    "\n",
    "    def print_message(self):\n",
    "        print(f\"Hello, my name is {self.name} and I am {self.age} years old.\")\n",
    "\n",
    "msg = PersonalMessage(\"Vinay\", 22)\n",
    "msg.print_message()"
   ]
  },
  {
   "cell_type": "code",
   "execution_count": 11,
   "id": "ee701f9c-3ee1-481f-9f86-38072f6a46b5",
   "metadata": {},
   "outputs": [
    {
     "name": "stdout",
     "output_type": "stream",
     "text": [
      "85.0\n"
     ]
    }
   ],
   "source": [
    "# Q11: Student class with average_grade method\n",
    "class Student:\n",
    "    def __init__(self, name, grades):\n",
    "        self.name = name\n",
    "        self.grades = grades\n",
    "\n",
    "    def average_grade(self):\n",
    "        return sum(self.grades) / len(self.grades)\n",
    "\n",
    "s = Student(\"Vinay\", [80, 90, 85])\n",
    "print(s.average_grade())\n"
   ]
  },
  {
   "cell_type": "code",
   "execution_count": 12,
   "id": "16cdbf9d-302a-4b01-bc8c-61ad03df9b6e",
   "metadata": {},
   "outputs": [
    {
     "name": "stdout",
     "output_type": "stream",
     "text": [
      "20\n"
     ]
    }
   ],
   "source": [
    "# Q12: Rectangle class with set_dimensions and area\n",
    "class Rectangle:\n",
    "    def set_dimensions(self, length, width):\n",
    "        self.length = length\n",
    "        self.width = width\n",
    "\n",
    "    def area(self):\n",
    "        return self.length * self.width\n",
    "\n",
    "rect = Rectangle()\n",
    "rect.set_dimensions(5, 4)\n",
    "print(rect.area())"
   ]
  },
  {
   "cell_type": "code",
   "execution_count": 13,
   "id": "444856bf-f5b5-4cb5-bfa5-f27be80faafe",
   "metadata": {},
   "outputs": [
    {
     "name": "stdout",
     "output_type": "stream",
     "text": [
      "20000\n",
      "Assigned to Marketing\n"
     ]
    }
   ],
   "source": [
    "# Q13: Employee class with salary and department\n",
    "class Employee:\n",
    "    def calculate_salary(self, hours, rate):\n",
    "        return hours * rate\n",
    "\n",
    "    def assign_department(self, department):\n",
    "        self.department = department\n",
    "        return f\"Assigned to {self.department}\"\n",
    "\n",
    "emp = Employee()\n",
    "print(emp.calculate_salary(40, 500))\n",
    "print(emp.assign_department(\"Marketing\"))"
   ]
  },
  {
   "cell_type": "code",
   "execution_count": 14,
   "id": "ccfd6acc-6d35-4080-8ecd-56b5b092540b",
   "metadata": {},
   "outputs": [
    {
     "name": "stdout",
     "output_type": "stream",
     "text": [
      "100000\n"
     ]
    }
   ],
   "source": [
    "# Q15: Product class with total_price method\n",
    "class Product:\n",
    "    def __init__(self, name, price, quantity):\n",
    "        self.name = name\n",
    "        self.price = price\n",
    "        self.quantity = quantity\n",
    "\n",
    "    def total_price(self):\n",
    "        return self.price * self.quantity\n",
    "\n",
    "p = Product(\"Laptop\", 50000, 2)\n",
    "print(p.total_price())"
   ]
  },
  {
   "cell_type": "code",
   "execution_count": 15,
   "id": "bd2d224e-d1d2-4c9d-a8a4-c4656cc54858",
   "metadata": {},
   "outputs": [
    {
     "name": "stdout",
     "output_type": "stream",
     "text": [
      "Moo\n",
      "Baa\n"
     ]
    }
   ],
   "source": [
    "# Q16: Animal abstract class with Cow and Sheep\n",
    "class Animal(ABC):\n",
    "    @abstractmethod\n",
    "    def sound(self):\n",
    "        pass\n",
    "\n",
    "class Cow(Animal):\n",
    "    def sound(self):\n",
    "        return \"Moo\"\n",
    "\n",
    "class Sheep(Animal):\n",
    "    def sound(self):\n",
    "        return \"Baa\"\n",
    "\n",
    "print(Cow().sound())\n",
    "print(Sheep().sound())\n",
    "\n",
    "\n"
   ]
  },
  {
   "cell_type": "code",
   "execution_count": 16,
   "id": "1965c09c-aec9-4dfb-8aa3-58cc41f8b446",
   "metadata": {},
   "outputs": [
    {
     "name": "stdout",
     "output_type": "stream",
     "text": [
      "Python 101 by Vinay, published in 2023\n"
     ]
    }
   ],
   "source": [
    "# Q17: Book class with get_book_info method\n",
    "class Book:\n",
    "    def __init__(self, title, author, year_published):\n",
    "        self.title = title\n",
    "        self.author = author\n",
    "        self.year_published = year_published\n",
    "\n",
    "    def get_book_info(self):\n",
    "        return f\"{self.title} by {self.author}, published in {self.year_published}\"\n",
    "\n",
    "b = Book(\"Python 101\", \"Vinay\", 2023)\n",
    "print(b.get_book_info())\n"
   ]
  },
  {
   "cell_type": "code",
   "execution_count": 17,
   "id": "25dcb021-8cb0-4291-998d-3a2d9b95a65b",
   "metadata": {},
   "outputs": [
    {
     "name": "stdout",
     "output_type": "stream",
     "text": [
      "Delhi 5000000 10\n"
     ]
    }
   ],
   "source": [
    "# Q18: House and Mansion class with inheritance\n",
    "class House:\n",
    "    def __init__(self, address, price):\n",
    "        self.address = address\n",
    "        self.price = price\n",
    "\n",
    "class Mansion(House):\n",
    "    def __init__(self, address, price, number_of_rooms):\n",
    "        super().__init__(address, price)\n",
    "        self.number_of_rooms = number_of_rooms\n",
    "\n",
    "m = Mansion(\"Delhi\", 5000000, 10)\n",
    "print(m.address, m.price, m.number_of_rooms)"
   ]
  },
  {
   "cell_type": "code",
   "execution_count": null,
   "id": "7da3efb5-aa6e-498d-b5e2-c34b98a44f63",
   "metadata": {},
   "outputs": [],
   "source": []
  }
 ],
 "metadata": {
  "kernelspec": {
   "display_name": "Python [conda env:base] *",
   "language": "python",
   "name": "conda-base-py"
  },
  "language_info": {
   "codemirror_mode": {
    "name": "ipython",
    "version": 3
   },
   "file_extension": ".py",
   "mimetype": "text/x-python",
   "name": "python",
   "nbconvert_exporter": "python",
   "pygments_lexer": "ipython3",
   "version": "3.13.5"
  }
 },
 "nbformat": 4,
 "nbformat_minor": 5
}
